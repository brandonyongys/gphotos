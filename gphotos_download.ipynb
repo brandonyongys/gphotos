{
 "cells": [
  {
   "attachments": {},
   "cell_type": "markdown",
   "id": "79cf8d79",
   "metadata": {},
   "source": [
    "## Download images and videos from Google Photos using Python\n",
    "The following steps describe how to set up a simple project that lets you use Python to download images from Google Photos:"
   ]
  },
  {
   "attachments": {},
   "cell_type": "markdown",
   "id": "5434000b-35ff-4aa2-a8b8-cc9a26f548d9",
   "metadata": {
    "tags": []
   },
   "source": [
    "## A. Enabling Google API\n",
    "\n",
    "1. Login to [https://console.cloud.google.com/](https://console.cloud.google.com/).\n",
    "2. Accept and agree to the Terms of Service.\n",
    "3. Click on 'Select a project' at the top left and then 'New project' at the popped out menu.\n",
    "![](imgs/Create_new_project.PNG)\n",
    "4. Name your project to your desired name (In this example, it is named as 'Brandon gphotos')\n",
    "![](imgs/Name_project.PNG)\n",
    "5. Click on 'Select a project' and select your project (Brandon gphotos)\n",
    "![](imgs/Select_project.PNG)\n",
    "6. Click on the 'Navigation menu' (3 horizontal bars) at the top left corner, hover over 'APIs & Services' and click 'Library'.\n",
    "![](imgs/Select_library_api.PNG) \n",
    "7. Search for 'google photos library' in the search bar.\n",
    "![](imgs/Search_gphotos.PNG)\n",
    "8. Select 'Photos Library API'and click 'Enable'. It would take a while to enable it.\n",
    "![](imgs/Enable_google_library_api.PNG)\n",
    "9. Once enabled, create credentials by click the blue 'Create credentials' at the left hand side.\n",
    "![](imgs/Create_credentials.PNG)\n",
    "    * Under 'Credentials type', select 'User data' and then click 'Next'\n",
    "    * Under 'OAuth Consent Screen', fill up the app name, user support email and developer contact information. \n",
    "    * Under 'Scopes', click 'Save and continue'.\n",
    "    * Under 'OAuth Client ID', select 'Desktop app' in the 'Application type' and fill up a name. Click 'Create' to proceed.\n",
    "    * Click 'Download' to download your credentials. Save this `credentials.json` in the **credentials** folder. \n",
    "    * Click 'Done' to complete the process.\n",
    "10. If you forgot to download your credentials, click on 'Credentials' on the side menu and select 'Download OAuth client' under the action column.\n",
    "![](imgs/Download_credentials.PNG)\n",
    "11. Select the 'OAuth consent screen' under the 'APIs & Services' navigation menu. Add your user's email into the 'Test users'.\n",
    "![](imgs/Add_test_user.png)\n",
    "    * This step is important as your app is not verified and Google does not allow you to use it unless the user is in your 'test users' list. \n",
    "\n"
   ]
  },
  {
   "attachments": {},
   "cell_type": "markdown",
   "id": "151b41e1",
   "metadata": {},
   "source": [
    "## B. Setting up the environment\n",
    "1. Open the terminal and navigate to your working directory. There should be two subfolders:\n",
    "    * **credentials**: This folder stores your `credentials.json` file. The credentials may be obtained using the instructions above.\n",
    "    * **downloads**: This folder stores all the downloaded media from Google Photos.\n",
    "2. Create a virtual environment `python3 -m venv gphotos`, where `gphotos` is the virtual environment name. Feel free to rename them.\n",
    "3. Activate your virtual environment using `gphotos\\scripts\\activate`\n",
    "4. Install the required packages using the requirements file with the command: `pip install -r requirements.txt`\n",
    "    * Be sure to install IPython kernel for Jupyter notebook. You would be prompted to install it the first time if you run the notebook using VSCode.\n",
    "5. Start Jupyter notebook and select the created \"gphotos\" virtual environment as the kernel."
   ]
  },
  {
   "attachments": {},
   "cell_type": "markdown",
   "id": "a736347b",
   "metadata": {},
   "source": [
    "# C. Download using `gphotos_download` \n",
    "\n",
    "1. Define the parameters of the `download_my_media` function:\n",
    "    * Define your credentials pathway, `client_secret_file = /relative/path/to/your/credentials.json`.\n",
    "    * Define the start and end download dates, `start_date` and `end_date` in the format \"YYYY-MM-DD\".\n",
    "    * Set `download_video` or `download_images` as `False` if you do not wish to download video/images. It will default to `True`.\n",
    "    * Set the download destination folder. Else, it will default to the **downloads** folder.\n",
    "    * Update the `config.py` file if you have a date range that you wish to ignore and not download.\n",
    "2. Run the `download_my_media` function from `gphotos_download`.\n",
    "3. A pop up would appear to request for your permission to access. Allow permission.\n",
    "4. Allow the script to run successfully. \n",
    "5. View the downloaded images in the `downloads` folder.\n",
    "\n",
    "**Notes!**\n",
    "The following function sends a post request to the Media API to get a list of all entries. Since the API return is limited to 100 items, the search is narrowed down to one day. Thus, the call would only be a problem if more than 100 images were created/uploaded on one day."
   ]
  },
  {
   "cell_type": "code",
   "execution_count": 1,
   "id": "55328b3f",
   "metadata": {},
   "outputs": [
    {
     "name": "stdout",
     "output_type": "stream",
     "text": [
      "Please visit this URL to authorize this application: https://accounts.google.com/o/oauth2/auth?response_type=code&client_id=207777951934-9gqtj6p2fve61n5o2o73os0ed7jh4r61.apps.googleusercontent.com&redirect_uri=http%3A%2F%2Flocalhost%3A8080%2F&scope=https%3A%2F%2Fwww.googleapis.com%2Fauth%2Fphotoslibrary&state=D7SJqBsOlRbLAZmFCFa5uXb1e6tylu&access_type=offline\n",
      "1/10/2022: No media items found for date\n",
      "2/10/2022: No media items found for date\n",
      "3/10/2022: No media items found for date\n",
      "4/10/2022: No media items found for date\n",
      "5/10/2022: No media items found for date\n",
      "6/10/2022: No media items found for date\n",
      "7/10/2022: No media items found for date\n",
      "8/10/2022: Downloaded 1 items\n",
      "9/10/2022: Downloaded 3 items\n",
      "10/10/2022: No media items found for date\n",
      "11/10/2022: No media items found for date\n",
      "12/10/2022: No media items found for date\n",
      "13/10/2022: No media items found for date\n"
     ]
    }
   ],
   "source": [
    "import gphotos_download\n",
    "client_secret_file= r'./credentials/credentials.json'\n",
    "start_date = \"2022-10-01\"\n",
    "end_date = \"2022-10-13\"\n",
    "download_video = True\n",
    "download_images = True\n",
    "destination_folder = './downloads/'\n",
    "\n",
    "\n",
    "gphotos_download.download_my_media(client_secret_file, start_date, end_date, \n",
    "                                   download_video = download_video, \n",
    "                                   download_images = download_images,\n",
    "                                   destination_folder = destination_folder)"
   ]
  },
  {
   "cell_type": "code",
   "execution_count": null,
   "id": "22316e88",
   "metadata": {},
   "outputs": [],
   "source": []
  }
 ],
 "metadata": {
  "kernelspec": {
   "display_name": "google",
   "language": "python",
   "name": "python3"
  },
  "language_info": {
   "codemirror_mode": {
    "name": "ipython",
    "version": 3
   },
   "file_extension": ".py",
   "mimetype": "text/x-python",
   "name": "python",
   "nbconvert_exporter": "python",
   "pygments_lexer": "ipython3",
   "version": "3.8.10"
  }
 },
 "nbformat": 4,
 "nbformat_minor": 5
}
